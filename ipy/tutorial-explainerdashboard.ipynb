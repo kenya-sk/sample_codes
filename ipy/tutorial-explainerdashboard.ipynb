{
 "cells": [
  {
   "cell_type": "code",
   "execution_count": null,
   "id": "6b8b9129-ed99-4770-91ff-8b78deee668f",
   "metadata": {},
   "outputs": [],
   "source": [
    "from sklearn.ensemble import RandomForestClassifier, RandomForestRegressor\n",
    "from explainerdashboard import ClassifierExplainer, RegressionExplainer, ExplainerDashboard\n",
    "from explainerdashboard.datasets import titanic_survive, titanic_names, titanic_fare"
   ]
  },
  {
   "cell_type": "code",
   "execution_count": null,
   "id": "12d1df92-24c8-4a9f-b4cc-efa924438b06",
   "metadata": {},
   "outputs": [],
   "source": [
    "feature_descriptions = {\n",
    "    \"Sex\": \"Gender of passenger\",\n",
    "    \"Gender\": \"Gender of passenger\",\n",
    "    \"Deck\": \"The deck the passenger had their cabin on\",\n",
    "    \"PassengerClass\": \"The class of the ticket: 1st, 2nd or 3rd class\",\n",
    "    \"Fare\": \"The amount of money people paid\", \n",
    "    \"Embarked\": \"the port where the passenger boarded the Titanic. Either Southampton, Cherbourg or Queenstown\",\n",
    "    \"Age\": \"Age of the passenger\",\n",
    "    \"No_of_siblings_plus_spouses_on_board\": \"The sum of the number of siblings plus the number of spouses on board\",\n",
    "    \"No_of_parents_plus_children_on_board\" : \"The sum of the number of parents plus the number of children on board\",\n",
    "}"
   ]
  },
  {
   "cell_type": "markdown",
   "id": "918f99dc-4f85-40f7-97e4-d464acc794d2",
   "metadata": {},
   "source": [
    "## Classifier Model Case"
   ]
  },
  {
   "cell_type": "code",
   "execution_count": null,
   "id": "07939213-6cd1-4548-916a-65ba8802529a",
   "metadata": {},
   "outputs": [],
   "source": [
    "X_train, y_train, X_test, y_test = titanic_survive()\n",
    "train_names, test_names = titanic_names()\n",
    "\n",
    "print(f\"X_train shape: {X_train.shape}\")\n",
    "print(f\"y_train shape: {y_train.shape}\")\n",
    "print(f\"X_test shape: {X_test.shape}\")\n",
    "print(f\"y_test shape: {y_test.shape}\")\n",
    "\n",
    "print(f\"train_names size: {len(train_names)} (ex: {train_names[0]})\")\n",
    "print(f\"test_names size: {len(test_names)} (ex: {test_names[0]})\")"
   ]
  },
  {
   "cell_type": "code",
   "execution_count": null,
   "id": "9440a08f-5e4a-4384-80f3-c18c3f227c7d",
   "metadata": {},
   "outputs": [],
   "source": [
    "model = RandomForestClassifier(n_estimators=50, max_depth=5)\n",
    "model.fit(X_train, y_train)"
   ]
  },
  {
   "cell_type": "code",
   "execution_count": null,
   "id": "8abbf208-9be4-483b-b04e-bc3a48ff837a",
   "metadata": {},
   "outputs": [],
   "source": [
    "explainer = ClassifierExplainer(model, X_test, y_test, \n",
    "                                cats=['Deck', 'Embarked',\n",
    "                                    {'Gender': ['Sex_male', 'Sex_female', 'Sex_nan']}],\n",
    "                                cats_notencoded={'Embarked': 'Stowaway'}, # defaults to 'NOT_ENCODED'\n",
    "                                descriptions=feature_descriptions, # adds a table and hover labels to dashboard\n",
    "                                labels=['Not survived', 'Survived'], # defaults to ['0', '1', etc]\n",
    "                                idxs = test_names, # defaults to X.index\n",
    "                                index_name = \"Passenger\", # defaults to X.index.name\n",
    "                                target = \"Survival\", # defaults to y.name\n",
    "                                )\n"
   ]
  },
  {
   "cell_type": "code",
   "execution_count": null,
   "id": "03dd20cb-803c-49f9-aa70-7a5b88fee8da",
   "metadata": {},
   "outputs": [],
   "source": [
    "db = ExplainerDashboard(explainer, \n",
    "                        title=\"Titanic Explainer\", # defaults to \"Model Explainer\"\n",
    "                        shap_interaction=False, # you can switch off tabs with bools\n",
    "                        )"
   ]
  },
  {
   "cell_type": "code",
   "execution_count": null,
   "id": "38885a9e-04c7-4448-901a-80fef2e24341",
   "metadata": {},
   "outputs": [],
   "source": [
    "db.run(port=8050)"
   ]
  },
  {
   "cell_type": "markdown",
   "id": "36a1c7c1-672a-40e0-8556-5e6ded9c549f",
   "metadata": {},
   "source": [
    "## Regression Model Case"
   ]
  },
  {
   "cell_type": "code",
   "execution_count": null,
   "id": "8ff8dda9-2981-4153-9069-36b1c58db446",
   "metadata": {},
   "outputs": [],
   "source": [
    "X_train, y_train, X_test, y_test = titanic_fare()\n",
    "print(f\"X_train shape: {X_train.shape}\")\n",
    "print(f\"y_train shape: {y_train.shape}\")\n",
    "print(f\"X_test shape: {X_test.shape}\")\n",
    "print(f\"y_test shape: {y_test.shape}\")"
   ]
  },
  {
   "cell_type": "code",
   "execution_count": null,
   "id": "94b18a0e-c8f0-468a-aace-2561d77897eb",
   "metadata": {},
   "outputs": [],
   "source": [
    "model = RandomForestRegressor()\n",
    "model.fit(X_train, y_train)"
   ]
  },
  {
   "cell_type": "code",
   "execution_count": null,
   "id": "dff9031e-11b9-4ee9-b64e-c87744e8ad39",
   "metadata": {},
   "outputs": [],
   "source": [
    "explainer = RegressionExplainer(model, X_test, y_test,\n",
    "                                cats=['Deck', 'Embarked', 'Sex'],\n",
    "                                descriptions=feature_descriptions, \n",
    "                                units = \"$\", # defaults to \"\"\n",
    "                               )"
   ]
  },
  {
   "cell_type": "code",
   "execution_count": null,
   "id": "8d6f6c4f-84c9-423f-bd1f-bd8073c79098",
   "metadata": {},
   "outputs": [],
   "source": [
    "ExplainerDashboard(explainer).run()"
   ]
  },
  {
   "cell_type": "markdown",
   "id": "057df73b-3940-41e3-9069-346a7a0c0890",
   "metadata": {},
   "source": [
    "## Result Export to HTML"
   ]
  },
  {
   "cell_type": "code",
   "execution_count": null,
   "id": "760cd2f8-2152-4d42-896e-66a67ecc9214",
   "metadata": {},
   "outputs": [],
   "source": [
    "db.save_html(\"dashboard.html\")"
   ]
  },
  {
   "cell_type": "code",
   "execution_count": null,
   "id": "ff15137b-7375-462c-8aa2-e37ef6d28aa3",
   "metadata": {},
   "outputs": [],
   "source": []
  }
 ],
 "metadata": {
  "kernelspec": {
   "display_name": "Python 3 (ipykernel)",
   "language": "python",
   "name": "python3"
  },
  "language_info": {
   "codemirror_mode": {
    "name": "ipython",
    "version": 3
   },
   "file_extension": ".py",
   "mimetype": "text/x-python",
   "name": "python",
   "nbconvert_exporter": "python",
   "pygments_lexer": "ipython3",
   "version": "3.8.5"
  }
 },
 "nbformat": 4,
 "nbformat_minor": 5
}
